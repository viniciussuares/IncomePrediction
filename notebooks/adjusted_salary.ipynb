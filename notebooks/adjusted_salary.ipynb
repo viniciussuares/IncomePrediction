{
 "cells": [
  {
   "cell_type": "markdown",
   "metadata": {},
   "source": [
    "# Adjusted Salary Analysis\n",
    "___"
   ]
  },
  {
   "cell_type": "markdown",
   "metadata": {},
   "source": [
    "**Objective**: The purpose of this notebook is to understand how salary has been adjusting over the past few years to attempt to overcome the model limitation of working only for 2023. It could use oficial inflation rates or adjustments to the minimum wage, but maybe the most simple and straightforward approach is to utilize the avarage salary change.\n",
    "\n",
    "**Process:**\n",
    "1. Data Collection\n",
    "2. EDA + Simple Feature Engineering (Dummy year, lag variable, % change YoY, etc)\n",
    "3. Fitting a simple model\n",
    "_______"
   ]
  },
  {
   "cell_type": "markdown",
   "metadata": {},
   "source": [
    "## 1. Data Collection"
   ]
  },
  {
   "cell_type": "markdown",
   "metadata": {},
   "source": [
    "Data can be collected from Base dos Dados public datalake on BigQuery using a simple SQL aggregation:"
   ]
  },
  {
   "cell_type": "code",
   "execution_count": 1,
   "metadata": {},
   "outputs": [
    {
     "name": "stderr",
     "output_type": "stream",
     "text": [
      "Downloading: 100%|██████████| 12/12 [00:00<00:00, 39.26rows/s]\n"
     ]
    },
    {
     "data": {
      "text/html": [
       "<div>\n",
       "<style scoped>\n",
       "    .dataframe tbody tr th:only-of-type {\n",
       "        vertical-align: middle;\n",
       "    }\n",
       "\n",
       "    .dataframe tbody tr th {\n",
       "        vertical-align: top;\n",
       "    }\n",
       "\n",
       "    .dataframe thead th {\n",
       "        text-align: right;\n",
       "    }\n",
       "</style>\n",
       "<table border=\"1\" class=\"dataframe\">\n",
       "  <thead>\n",
       "    <tr style=\"text-align: right;\">\n",
       "      <th></th>\n",
       "      <th>year</th>\n",
       "      <th>avg_salary</th>\n",
       "    </tr>\n",
       "  </thead>\n",
       "  <tbody>\n",
       "    <tr>\n",
       "      <th>0</th>\n",
       "      <td>2012</td>\n",
       "      <td>1316.023423</td>\n",
       "    </tr>\n",
       "    <tr>\n",
       "      <th>1</th>\n",
       "      <td>2013</td>\n",
       "      <td>1443.788456</td>\n",
       "    </tr>\n",
       "    <tr>\n",
       "      <th>2</th>\n",
       "      <td>2014</td>\n",
       "      <td>1550.742136</td>\n",
       "    </tr>\n",
       "    <tr>\n",
       "      <th>3</th>\n",
       "      <td>2015</td>\n",
       "      <td>1657.595888</td>\n",
       "    </tr>\n",
       "    <tr>\n",
       "      <th>4</th>\n",
       "      <td>2016</td>\n",
       "      <td>1756.330242</td>\n",
       "    </tr>\n",
       "    <tr>\n",
       "      <th>5</th>\n",
       "      <td>2017</td>\n",
       "      <td>1875.784540</td>\n",
       "    </tr>\n",
       "    <tr>\n",
       "      <th>6</th>\n",
       "      <td>2018</td>\n",
       "      <td>1968.171949</td>\n",
       "    </tr>\n",
       "    <tr>\n",
       "      <th>7</th>\n",
       "      <td>2019</td>\n",
       "      <td>2055.721865</td>\n",
       "    </tr>\n",
       "    <tr>\n",
       "      <th>8</th>\n",
       "      <td>2020</td>\n",
       "      <td>2224.109341</td>\n",
       "    </tr>\n",
       "    <tr>\n",
       "      <th>9</th>\n",
       "      <td>2021</td>\n",
       "      <td>2231.132862</td>\n",
       "    </tr>\n",
       "    <tr>\n",
       "      <th>10</th>\n",
       "      <td>2022</td>\n",
       "      <td>2465.851143</td>\n",
       "    </tr>\n",
       "    <tr>\n",
       "      <th>11</th>\n",
       "      <td>2023</td>\n",
       "      <td>2713.003403</td>\n",
       "    </tr>\n",
       "  </tbody>\n",
       "</table>\n",
       "</div>"
      ],
      "text/plain": [
       "    year   avg_salary\n",
       "0   2012  1316.023423\n",
       "1   2013  1443.788456\n",
       "2   2014  1550.742136\n",
       "3   2015  1657.595888\n",
       "4   2016  1756.330242\n",
       "5   2017  1875.784540\n",
       "6   2018  1968.171949\n",
       "7   2019  2055.721865\n",
       "8   2020  2224.109341\n",
       "9   2021  2231.132862\n",
       "10  2022  2465.851143\n",
       "11  2023  2713.003403"
      ]
     },
     "execution_count": 1,
     "metadata": {},
     "output_type": "execute_result"
    }
   ],
   "source": [
    "# Import needed library\n",
    "import basedosdados as bd\n",
    "\n",
    "# Define SQL query and billing_project_id\n",
    "sql_query = \"\"\"\n",
    "SELECT\n",
    "    ano AS year\n",
    "    , AVG(VD4019) AS avg_salary\n",
    "FROM \n",
    "    basedosdados.br_ibge_pnadc.microdados\n",
    "WHERE\n",
    "    VD4015 <> '2' -- excludes people not payed in money for their work\n",
    "GROUP BY\n",
    "    ano\n",
    "ORDER BY\n",
    "    ano ASC\n",
    "\"\"\"\n",
    "billing_project_id = \"incomeprediction-425511\"\n",
    "\n",
    "# Collect data and show it\n",
    "df = bd.read_sql(query=sql_query, billing_project_id=billing_project_id)\n",
    "df"
   ]
  },
  {
   "cell_type": "markdown",
   "metadata": {},
   "source": [
    "With the data already saved in a dedicated variable, let's move on the EDA:\n",
    "___"
   ]
  },
  {
   "cell_type": "markdown",
   "metadata": {},
   "source": [
    "## 2. EDA and Simple Feature Engineering:"
   ]
  },
  {
   "cell_type": "markdown",
   "metadata": {},
   "source": [
    "Importing needed libraries and plotting an initial line chart:"
   ]
  },
  {
   "cell_type": "code",
   "execution_count": 2,
   "metadata": {},
   "outputs": [
    {
     "data": {
      "image/png": "[encoded data removed]",
      "text/plain": [
       "<Figure size 640x480 with 1 Axes>"
      ]
     },
     "metadata": {},
     "output_type": "display_data"
    }
   ],
   "source": [
    "# Needed libraries\n",
    "import matplotlib.pyplot as plt\n",
    "import seaborn as sns\n",
    "\n",
    "# Line Chart\n",
    "sns.lineplot(data=df, x='year', y='avg_salary')\n",
    "plt.show()"
   ]
  },
  {
   "cell_type": "markdown",
   "metadata": {},
   "source": [
    "Almost a straight line, althought it had some fluctuation after 2019."
   ]
  },
  {
   "cell_type": "markdown",
   "metadata": {},
   "source": [
    "Let's the check the spearman correlation:"
   ]
  },
  {
   "cell_type": "code",
   "execution_count": 3,
   "metadata": {},
   "outputs": [
    {
     "name": "stdout",
     "output_type": "stream",
     "text": [
      "Spearman Correlation:  1.00\n",
      "P-value:  0.000\n"
     ]
    }
   ],
   "source": [
    "from scipy.stats import spearmanr\n",
    "\n",
    "corr, pvalue = spearmanr(df['year'], df['avg_salary'])\n",
    "print(f'Spearman Correlation: {corr: .2f}')\n",
    "print(f'P-value: {pvalue: .3f}')"
   ]
  },
  {
   "cell_type": "markdown",
   "metadata": {},
   "source": [
    "No more feature engineering needed.   \n",
    "A simple linear model with a small regularization should be enough for this project.\n",
    "____"
   ]
  },
  {
   "cell_type": "markdown",
   "metadata": {},
   "source": [
    "## 3. Fitting a Simple Linear Model:"
   ]
  },
  {
   "cell_type": "code",
   "execution_count": 4,
   "metadata": {},
   "outputs": [
    {
     "name": "stdout",
     "output_type": "stream",
     "text": [
      "R²:  0.981\n",
      "MAE: R$ 34.75\n",
      "Coef: R$ 115.11\n"
     ]
    }
   ],
   "source": [
    "# Import\n",
    "from sklearn.linear_model import Ridge\n",
    "from sklearn.metrics import mean_absolute_error\n",
    "\n",
    "# Train\n",
    "X = df[['year']]\n",
    "y = df[['avg_salary']]\n",
    "model = Ridge()\n",
    "model.fit(X, y)\n",
    "\n",
    "# Predict\n",
    "pred = model.predict(X)\n",
    "\n",
    "# Initial evaluation\n",
    "print(f'R²: {model.score(X, y): .3f}')\n",
    "print(f'MAE: R$ {mean_absolute_error(y, pred) :.2f}')\n",
    "print(f'Coef: R$ {model.coef_[0][0] :.2f}')"
   ]
  },
  {
   "cell_type": "markdown",
   "metadata": {},
   "source": [
    "This means that, on average, salary increases R$ 115 each year.   \n",
    "Since R² is still nearly 1, the MAE is close to 0"
   ]
  },
  {
   "cell_type": "markdown",
   "metadata": {},
   "source": [
    "Let's visualize fit in a chart to understand results:"
   ]
  },
  {
   "cell_type": "code",
   "execution_count": 5,
   "metadata": {},
   "outputs": [
    {
     "data": {
      "image/png": "[encoded data removed]",
      "text/plain": [
       "<Figure size 640x480 with 1 Axes>"
      ]
     },
     "metadata": {},
     "output_type": "display_data"
    }
   ],
   "source": [
    "# Prepare to plot multiple lines\n",
    "df['ridge_pred'] = pred\n",
    "df.index = df['year']\n",
    "df.drop('year', axis=1, inplace=True)\n",
    "\n",
    "# Plot line chart\n",
    "sns.lineplot(df)\n",
    "plt.show()"
   ]
  },
  {
   "cell_type": "markdown",
   "metadata": {},
   "source": [
    "In summary, if we consider the training point as the intercept and plug in the linear equation, we will have:\n",
    "\n",
    "    adjusted prediction = years from 2023 * coeficient + 2023 prediction\n",
    "\n",
    "where coeficient is approximately R$ 115.11"
   ]
  },
  {
   "cell_type": "code",
   "execution_count": 6,
   "metadata": {},
   "outputs": [
    {
     "data": {
      "text/plain": [
       "115.10836311843748"
      ]
     },
     "execution_count": 6,
     "metadata": {},
     "output_type": "execute_result"
    }
   ],
   "source": [
    "# Obtaining final estimated value for the coeficient:\n",
    "model.coef_[0][0]"
   ]
  }
 ],
 "metadata": {
  "kernelspec": {
   "display_name": "venv",
   "language": "python",
   "name": "python3"
  },
  "language_info": {
   "codemirror_mode": {
    "name": "ipython",
    "version": 3
   },
   "file_extension": ".py",
   "mimetype": "text/x-python",
   "name": "python",
   "nbconvert_exporter": "python",
   "pygments_lexer": "ipython3",
   "version": "3.9.19"
  }
 },
 "nbformat": 4,
 "nbformat_minor": 2
}
