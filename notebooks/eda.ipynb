{
 "cells": [
  {
   "cell_type": "markdown",
   "metadata": {},
   "source": [
    "# Exploratory Data Analysis\n",
    "---"
   ]
  },
  {
   "cell_type": "markdown",
   "metadata": {},
   "source": [
    "**Objective:** Understand the variables, association between them and necessary transformations before model selection/building."
   ]
  },
  {
   "cell_type": "markdown",
   "metadata": {},
   "source": [
    "**Process:**\n",
    "1. Importing libraries and dataset\n",
    "2. Checking data types, nulls and outliers\n",
    "3. Univariate analysis (target)\n",
    "4. Bivariate analysis (relation to target)\n",
    "5. Multivariate analysis (multicollinearity)\n",
    "---"
   ]
  },
  {
   "cell_type": "markdown",
   "metadata": {},
   "source": [
    "## 1. Importing libraries and dataset"
   ]
  },
  {
   "cell_type": "code",
   "execution_count": 1,
   "metadata": {},
   "outputs": [
    {
     "data": {
      "text/plain": [
       "<module 'utils' from 'c:\\\\Users\\\\vsuar\\\\OneDrive\\\\Documentos\\\\IncomePrediction\\\\src\\\\utils.py'>"
      ]
     },
     "execution_count": 1,
     "metadata": {},
     "output_type": "execute_result"
    }
   ],
   "source": [
    "# Adding src to the path for modules\n",
    "import sys\n",
    "import os\n",
    "root_path = os.path.abspath('..')\n",
    "src_path = os.path.join(root_path, 'src')\n",
    "sys.path.append(src_path)\n",
    "\n",
    "# Data Manipulation\n",
    "import pandas as pd\n",
    "import numpy as np\n",
    "\n",
    "# Hypothesis Test\n",
    "import scipy.stats as stats\n",
    "\n",
    "# Data Viz\n",
    "import matplotlib.pyplot as plt\n",
    "import seaborn as sns\n",
    "\n",
    "# Project variables and functions\n",
    "import config \n",
    "import utils\n",
    "import importlib\n",
    "importlib.reload(utils)"
   ]
  },
  {
   "cell_type": "markdown",
   "metadata": {},
   "source": [
    "Importing the data and having a first look at it:"
   ]
  },
  {
   "cell_type": "code",
   "execution_count": 2,
   "metadata": {},
   "outputs": [
    {
     "data": {
      "text/html": [
       "<div>\n",
       "<style scoped>\n",
       "    .dataframe tbody tr th:only-of-type {\n",
       "        vertical-align: middle;\n",
       "    }\n",
       "\n",
       "    .dataframe tbody tr th {\n",
       "        vertical-align: top;\n",
       "    }\n",
       "\n",
       "    .dataframe thead th {\n",
       "        text-align: right;\n",
       "    }\n",
       "</style>\n",
       "<table border=\"1\" class=\"dataframe\">\n",
       "  <thead>\n",
       "    <tr style=\"text-align: right;\">\n",
       "      <th></th>\n",
       "      <th>state</th>\n",
       "      <th>age</th>\n",
       "      <th>sex</th>\n",
       "      <th>race</th>\n",
       "      <th>literate</th>\n",
       "      <th>highest_educational_level</th>\n",
       "      <th>years_studied</th>\n",
       "      <th>worker_type</th>\n",
       "      <th>work_segment</th>\n",
       "      <th>occupation_group</th>\n",
       "      <th>tax_payer</th>\n",
       "      <th>weekly_worked_hours</th>\n",
       "      <th>main_work_income</th>\n",
       "      <th>all_work_income</th>\n",
       "      <th>weekly_worked_hours_all_jobs</th>\n",
       "    </tr>\n",
       "  </thead>\n",
       "  <tbody>\n",
       "    <tr>\n",
       "      <th>393760</th>\n",
       "      <td>SC</td>\n",
       "      <td>39</td>\n",
       "      <td>1</td>\n",
       "      <td>1</td>\n",
       "      <td>1</td>\n",
       "      <td>5</td>\n",
       "      <td>12</td>\n",
       "      <td>8</td>\n",
       "      <td>4</td>\n",
       "      <td>5</td>\n",
       "      <td>2</td>\n",
       "      <td>4</td>\n",
       "      <td>5000.0</td>\n",
       "      <td>5000.0</td>\n",
       "      <td>48</td>\n",
       "    </tr>\n",
       "    <tr>\n",
       "      <th>143877</th>\n",
       "      <td>ES</td>\n",
       "      <td>67</td>\n",
       "      <td>1</td>\n",
       "      <td>1</td>\n",
       "      <td>1</td>\n",
       "      <td>2</td>\n",
       "      <td>6</td>\n",
       "      <td>1</td>\n",
       "      <td>1</td>\n",
       "      <td>8</td>\n",
       "      <td>1</td>\n",
       "      <td>3</td>\n",
       "      <td>1700.0</td>\n",
       "      <td>1700.0</td>\n",
       "      <td>44</td>\n",
       "    </tr>\n",
       "    <tr>\n",
       "      <th>25464</th>\n",
       "      <td>BA</td>\n",
       "      <td>54</td>\n",
       "      <td>2</td>\n",
       "      <td>4</td>\n",
       "      <td>2</td>\n",
       "      <td>2</td>\n",
       "      <td>1</td>\n",
       "      <td>9</td>\n",
       "      <td>4</td>\n",
       "      <td>5</td>\n",
       "      <td>2</td>\n",
       "      <td>4</td>\n",
       "      <td>250.0</td>\n",
       "      <td>250.0</td>\n",
       "      <td>45</td>\n",
       "    </tr>\n",
       "    <tr>\n",
       "      <th>499006</th>\n",
       "      <td>RS</td>\n",
       "      <td>50</td>\n",
       "      <td>1</td>\n",
       "      <td>1</td>\n",
       "      <td>1</td>\n",
       "      <td>5</td>\n",
       "      <td>12</td>\n",
       "      <td>1</td>\n",
       "      <td>4</td>\n",
       "      <td>5</td>\n",
       "      <td>1</td>\n",
       "      <td>3</td>\n",
       "      <td>3000.0</td>\n",
       "      <td>3000.0</td>\n",
       "      <td>44</td>\n",
       "    </tr>\n",
       "    <tr>\n",
       "      <th>774166</th>\n",
       "      <td>SC</td>\n",
       "      <td>56</td>\n",
       "      <td>1</td>\n",
       "      <td>1</td>\n",
       "      <td>1</td>\n",
       "      <td>7</td>\n",
       "      <td>16</td>\n",
       "      <td>9</td>\n",
       "      <td>4</td>\n",
       "      <td>3</td>\n",
       "      <td>1</td>\n",
       "      <td>1</td>\n",
       "      <td>300.0</td>\n",
       "      <td>300.0</td>\n",
       "      <td>8</td>\n",
       "    </tr>\n",
       "    <tr>\n",
       "      <th>321291</th>\n",
       "      <td>AM</td>\n",
       "      <td>45</td>\n",
       "      <td>1</td>\n",
       "      <td>4</td>\n",
       "      <td>1</td>\n",
       "      <td>5</td>\n",
       "      <td>12</td>\n",
       "      <td>9</td>\n",
       "      <td>7</td>\n",
       "      <td>3</td>\n",
       "      <td>2</td>\n",
       "      <td>3</td>\n",
       "      <td>5000.0</td>\n",
       "      <td>5000.0</td>\n",
       "      <td>40</td>\n",
       "    </tr>\n",
       "    <tr>\n",
       "      <th>217013</th>\n",
       "      <td>SC</td>\n",
       "      <td>34</td>\n",
       "      <td>1</td>\n",
       "      <td>4</td>\n",
       "      <td>1</td>\n",
       "      <td>3</td>\n",
       "      <td>9</td>\n",
       "      <td>9</td>\n",
       "      <td>3</td>\n",
       "      <td>7</td>\n",
       "      <td>2</td>\n",
       "      <td>3</td>\n",
       "      <td>1400.0</td>\n",
       "      <td>1400.0</td>\n",
       "      <td>40</td>\n",
       "    </tr>\n",
       "    <tr>\n",
       "      <th>71801</th>\n",
       "      <td>RO</td>\n",
       "      <td>51</td>\n",
       "      <td>2</td>\n",
       "      <td>4</td>\n",
       "      <td>1</td>\n",
       "      <td>2</td>\n",
       "      <td>4</td>\n",
       "      <td>4</td>\n",
       "      <td>11</td>\n",
       "      <td>9</td>\n",
       "      <td>2</td>\n",
       "      <td>3</td>\n",
       "      <td>2000.0</td>\n",
       "      <td>2000.0</td>\n",
       "      <td>44</td>\n",
       "    </tr>\n",
       "    <tr>\n",
       "      <th>602986</th>\n",
       "      <td>GO</td>\n",
       "      <td>26</td>\n",
       "      <td>2</td>\n",
       "      <td>1</td>\n",
       "      <td>1</td>\n",
       "      <td>7</td>\n",
       "      <td>14</td>\n",
       "      <td>2</td>\n",
       "      <td>1</td>\n",
       "      <td>1</td>\n",
       "      <td>1</td>\n",
       "      <td>3</td>\n",
       "      <td>10000.0</td>\n",
       "      <td>10000.0</td>\n",
       "      <td>40</td>\n",
       "    </tr>\n",
       "    <tr>\n",
       "      <th>75807</th>\n",
       "      <td>AM</td>\n",
       "      <td>44</td>\n",
       "      <td>1</td>\n",
       "      <td>4</td>\n",
       "      <td>1</td>\n",
       "      <td>2</td>\n",
       "      <td>5</td>\n",
       "      <td>9</td>\n",
       "      <td>4</td>\n",
       "      <td>7</td>\n",
       "      <td>2</td>\n",
       "      <td>2</td>\n",
       "      <td>600.0</td>\n",
       "      <td>600.0</td>\n",
       "      <td>30</td>\n",
       "    </tr>\n",
       "  </tbody>\n",
       "</table>\n",
       "</div>"
      ],
      "text/plain": [
       "       state  age  sex  race  literate  highest_educational_level  \\\n",
       "393760    SC   39    1     1         1                          5   \n",
       "143877    ES   67    1     1         1                          2   \n",
       "25464     BA   54    2     4         2                          2   \n",
       "499006    RS   50    1     1         1                          5   \n",
       "774166    SC   56    1     1         1                          7   \n",
       "321291    AM   45    1     4         1                          5   \n",
       "217013    SC   34    1     4         1                          3   \n",
       "71801     RO   51    2     4         1                          2   \n",
       "602986    GO   26    2     1         1                          7   \n",
       "75807     AM   44    1     4         1                          2   \n",
       "\n",
       "        years_studied  worker_type  work_segment  occupation_group  tax_payer  \\\n",
       "393760             12            8             4                 5          2   \n",
       "143877              6            1             1                 8          1   \n",
       "25464               1            9             4                 5          2   \n",
       "499006             12            1             4                 5          1   \n",
       "774166             16            9             4                 3          1   \n",
       "321291             12            9             7                 3          2   \n",
       "217013              9            9             3                 7          2   \n",
       "71801               4            4            11                 9          2   \n",
       "602986             14            2             1                 1          1   \n",
       "75807               5            9             4                 7          2   \n",
       "\n",
       "        weekly_worked_hours  main_work_income  all_work_income  \\\n",
       "393760                    4            5000.0           5000.0   \n",
       "143877                    3            1700.0           1700.0   \n",
       "25464                     4             250.0            250.0   \n",
       "499006                    3            3000.0           3000.0   \n",
       "774166                    1             300.0            300.0   \n",
       "321291                    3            5000.0           5000.0   \n",
       "217013                    3            1400.0           1400.0   \n",
       "71801                     3            2000.0           2000.0   \n",
       "602986                    3           10000.0          10000.0   \n",
       "75807                     2             600.0            600.0   \n",
       "\n",
       "        weekly_worked_hours_all_jobs  \n",
       "393760                            48  \n",
       "143877                            44  \n",
       "25464                             45  \n",
       "499006                            44  \n",
       "774166                             8  \n",
       "321291                            40  \n",
       "217013                            40  \n",
       "71801                             44  \n",
       "602986                            40  \n",
       "75807                             30  "
      ]
     },
     "execution_count": 2,
     "metadata": {},
     "output_type": "execute_result"
    }
   ],
   "source": [
    "# Importing\n",
    "df = utils.read_compressed_data(config.COLLECTED_DATA_PATH)\n",
    "\n",
    "# First look\n",
    "df.sample(10)"
   ]
  },
  {
   "cell_type": "markdown",
   "metadata": {},
   "source": [
    "---\n",
    "## 2. Checking data types, nulls and outliers"
   ]
  },
  {
   "cell_type": "markdown",
   "metadata": {},
   "source": [
    "Checking types:"
   ]
  },
  {
   "cell_type": "code",
   "execution_count": 3,
   "metadata": {},
   "outputs": [
    {
     "data": {
      "text/plain": [
       "state                            object\n",
       "age                               int64\n",
       "sex                               int64\n",
       "race                              int64\n",
       "literate                          int64\n",
       "highest_educational_level         int64\n",
       "years_studied                     int64\n",
       "worker_type                       int64\n",
       "work_segment                      int64\n",
       "occupation_group                  int64\n",
       "tax_payer                         int64\n",
       "weekly_worked_hours               int64\n",
       "main_work_income                float64\n",
       "all_work_income                 float64\n",
       "weekly_worked_hours_all_jobs      int64\n",
       "dtype: object"
      ]
     },
     "execution_count": 3,
     "metadata": {},
     "output_type": "execute_result"
    }
   ],
   "source": [
    "# Types\n",
    "df.dtypes"
   ]
  },
  {
   "cell_type": "markdown",
   "metadata": {},
   "source": [
    "Although almost all columns are codified as numeric, most of them are truly categorical.    \n",
    "The ones that are numeric should be stored in a separate variable."
   ]
  },
  {
   "cell_type": "code",
   "execution_count": 4,
   "metadata": {},
   "outputs": [],
   "source": [
    "truly_numeric = ['age', 'years_studied', 'main_work_income', 'all_work_income']"
   ]
  },
  {
   "cell_type": "markdown",
   "metadata": {},
   "source": [
    "Checking nulls:"
   ]
  },
  {
   "cell_type": "code",
   "execution_count": 5,
   "metadata": {},
   "outputs": [
    {
     "name": "stdout",
     "output_type": "stream",
     "text": [
      "Null Percentage by Column: \n"
     ]
    },
    {
     "data": {
      "text/plain": [
       "state                            0.00%\n",
       "age                              0.00%\n",
       "sex                              0.00%\n",
       "race                             0.00%\n",
       "literate                         0.00%\n",
       "highest_educational_level        0.00%\n",
       "years_studied                    0.00%\n",
       "worker_type                      0.00%\n",
       "work_segment                     0.00%\n",
       "occupation_group                 0.00%\n",
       "tax_payer                        0.00%\n",
       "weekly_worked_hours              0.00%\n",
       "main_work_income                 0.00%\n",
       "all_work_income                  0.00%\n",
       "weekly_worked_hours_all_jobs     0.00%\n",
       "dtype: object"
      ]
     },
     "execution_count": 5,
     "metadata": {},
     "output_type": "execute_result"
    }
   ],
   "source": [
    "# Nulls\n",
    "utils.nulls_percentage(df)"
   ]
  },
  {
   "cell_type": "markdown",
   "metadata": {},
   "source": [
    "Checking outliers:"
   ]
  },
  {
   "cell_type": "code",
   "execution_count": 6,
   "metadata": {},
   "outputs": [
    {
     "name": "stdout",
     "output_type": "stream",
     "text": [
      "Percentage of Outliers per Column: \n"
     ]
    },
    {
     "data": {
      "text/html": [
       "<div>\n",
       "<style scoped>\n",
       "    .dataframe tbody tr th:only-of-type {\n",
       "        vertical-align: middle;\n",
       "    }\n",
       "\n",
       "    .dataframe tbody tr th {\n",
       "        vertical-align: top;\n",
       "    }\n",
       "\n",
       "    .dataframe thead th {\n",
       "        text-align: right;\n",
       "    }\n",
       "</style>\n",
       "<table border=\"1\" class=\"dataframe\">\n",
       "  <thead>\n",
       "    <tr style=\"text-align: right;\">\n",
       "      <th></th>\n",
       "      <th>Inner Fence</th>\n",
       "      <th>Outer Fence</th>\n",
       "    </tr>\n",
       "  </thead>\n",
       "  <tbody>\n",
       "    <tr>\n",
       "      <th>age</th>\n",
       "      <td>0.07%</td>\n",
       "      <td>0.00%</td>\n",
       "    </tr>\n",
       "    <tr>\n",
       "      <th>years_studied</th>\n",
       "      <td>3.08%</td>\n",
       "      <td>0.00%</td>\n",
       "    </tr>\n",
       "    <tr>\n",
       "      <th>main_work_income</th>\n",
       "      <td>8.49%</td>\n",
       "      <td>5.36%</td>\n",
       "    </tr>\n",
       "    <tr>\n",
       "      <th>all_work_income</th>\n",
       "      <td>8.79%</td>\n",
       "      <td>4.76%</td>\n",
       "    </tr>\n",
       "  </tbody>\n",
       "</table>\n",
       "</div>"
      ],
      "text/plain": [
       "                 Inner Fence Outer Fence\n",
       "age                    0.07%       0.00%\n",
       "years_studied          3.08%       0.00%\n",
       "main_work_income       8.49%       5.36%\n",
       "all_work_income        8.79%       4.76%"
      ]
     },
     "execution_count": 6,
     "metadata": {},
     "output_type": "execute_result"
    }
   ],
   "source": [
    "utils.outlier_percentage(df[truly_numeric])"
   ]
  },
  {
   "cell_type": "markdown",
   "metadata": {},
   "source": [
    "Inner Fence showed itself to be a lot more sensitive to outliers.   \n",
    "Using outer fence keeps roughly 95% of income as it is right now, and probably will be the preferred method.   \n",
    "I'll check the description to understand where these outliers may be."
   ]
  },
  {
   "cell_type": "code",
   "execution_count": 7,
   "metadata": {},
   "outputs": [
    {
     "data": {
      "text/html": [
       "<div>\n",
       "<style scoped>\n",
       "    .dataframe tbody tr th:only-of-type {\n",
       "        vertical-align: middle;\n",
       "    }\n",
       "\n",
       "    .dataframe tbody tr th {\n",
       "        vertical-align: top;\n",
       "    }\n",
       "\n",
       "    .dataframe thead th {\n",
       "        text-align: right;\n",
       "    }\n",
       "</style>\n",
       "<table border=\"1\" class=\"dataframe\">\n",
       "  <thead>\n",
       "    <tr style=\"text-align: right;\">\n",
       "      <th></th>\n",
       "      <th>age</th>\n",
       "      <th>years_studied</th>\n",
       "      <th>main_work_income</th>\n",
       "      <th>all_work_income</th>\n",
       "    </tr>\n",
       "  </thead>\n",
       "  <tbody>\n",
       "    <tr>\n",
       "      <th>mean</th>\n",
       "      <td>40.9</td>\n",
       "      <td>10.8</td>\n",
       "      <td>2636.1</td>\n",
       "      <td>2713.0</td>\n",
       "    </tr>\n",
       "    <tr>\n",
       "      <th>std</th>\n",
       "      <td>13.6</td>\n",
       "      <td>4.3</td>\n",
       "      <td>3941.1</td>\n",
       "      <td>4138.2</td>\n",
       "    </tr>\n",
       "    <tr>\n",
       "      <th>min</th>\n",
       "      <td>14.0</td>\n",
       "      <td>0.0</td>\n",
       "      <td>5.0</td>\n",
       "      <td>5.0</td>\n",
       "    </tr>\n",
       "    <tr>\n",
       "      <th>25%</th>\n",
       "      <td>30.0</td>\n",
       "      <td>8.0</td>\n",
       "      <td>1300.0</td>\n",
       "      <td>1302.0</td>\n",
       "    </tr>\n",
       "    <tr>\n",
       "      <th>50%</th>\n",
       "      <td>40.0</td>\n",
       "      <td>12.0</td>\n",
       "      <td>1600.0</td>\n",
       "      <td>1600.0</td>\n",
       "    </tr>\n",
       "    <tr>\n",
       "      <th>75%</th>\n",
       "      <td>51.0</td>\n",
       "      <td>13.0</td>\n",
       "      <td>2900.0</td>\n",
       "      <td>3000.0</td>\n",
       "    </tr>\n",
       "    <tr>\n",
       "      <th>max</th>\n",
       "      <td>114.0</td>\n",
       "      <td>16.0</td>\n",
       "      <td>300000.0</td>\n",
       "      <td>300000.0</td>\n",
       "    </tr>\n",
       "  </tbody>\n",
       "</table>\n",
       "</div>"
      ],
      "text/plain": [
       "        age  years_studied  main_work_income  all_work_income\n",
       "mean   40.9           10.8            2636.1           2713.0\n",
       "std    13.6            4.3            3941.1           4138.2\n",
       "min    14.0            0.0               5.0              5.0\n",
       "25%    30.0            8.0            1300.0           1302.0\n",
       "50%    40.0           12.0            1600.0           1600.0\n",
       "75%    51.0           13.0            2900.0           3000.0\n",
       "max   114.0           16.0          300000.0         300000.0"
      ]
     },
     "execution_count": 7,
     "metadata": {},
     "output_type": "execute_result"
    }
   ],
   "source": [
    "utils.formatted_description(df[truly_numeric])"
   ]
  },
  {
   "cell_type": "markdown",
   "metadata": {},
   "source": [
    "Doing a quick math, I see that inner fence was more sensitive to rows with few years studied and high income.    \n",
    "I consider the intervals to be acceptable and therefore confirm my option for the outer fence method for dealing with outliers. "
   ]
  },
  {
   "cell_type": "markdown",
   "metadata": {},
   "source": [
    "----\n",
    "## 3. Univariate Analysis (Target)"
   ]
  },
  {
   "cell_type": "markdown",
   "metadata": {},
   "source": [
    "First, it seems that main_work_income is almost always the same as all_work_income.    \n",
    "I want to quantify how much similiar are they."
   ]
  },
  {
   "cell_type": "code",
   "execution_count": 8,
   "metadata": {},
   "outputs": [
    {
     "name": "stdout",
     "output_type": "stream",
     "text": [
      "Propostion of rows where main income represents all income: 96.99%\n"
     ]
    }
   ],
   "source": [
    "main_is_all = df.loc[df['all_work_income']==df['main_work_income']].shape[0] / df.shape[0]\n",
    "print(f'Propostion of rows where main income represents all income: {main_is_all * 100 :.2f}%')"
   ]
  },
  {
   "cell_type": "markdown",
   "metadata": {},
   "source": [
    "Although they are roughly 97% of time the same, I'll use the all_work_income column for the analysis/prediction. "
   ]
  },
  {
   "cell_type": "markdown",
   "metadata": {},
   "source": [
    "Treating outliers:"
   ]
  },
  {
   "cell_type": "code",
   "execution_count": 9,
   "metadata": {},
   "outputs": [
    {
     "name": "stdout",
     "output_type": "stream",
     "text": [
      "Max before winsorization: 300000.0\n",
      "Max after winsorization: 8094.0\n"
     ]
    }
   ],
   "source": [
    "print('Max before winsorization:', df['all_work_income'].max())\n",
    "df['all_work_income'] = utils.winsorizing_outliers(df['all_work_income'])\n",
    "print('Max after winsorization:', df['all_work_income'].max())"
   ]
  },
  {
   "cell_type": "code",
   "execution_count": 10,
   "metadata": {},
   "outputs": [
    {
     "data": {
      "image/png": "[encoded data removed]",
      "text/plain": [
       "<Figure size 640x480 with 1 Axes>"
      ]
     },
     "metadata": {},
     "output_type": "display_data"
    }
   ],
   "source": [
    "sns.histplot(df['all_work_income'], kde=True, stat='percent', binwidth=1000)\n",
    "plt.title('Income Distribution')\n",
    "plt.show()"
   ]
  },
  {
   "cell_type": "code",
   "execution_count": null,
   "metadata": {},
   "outputs": [],
   "source": []
  }
 ],
 "metadata": {
  "kernelspec": {
   "display_name": "venv",
   "language": "python",
   "name": "python3"
  },
  "language_info": {
   "codemirror_mode": {
    "name": "ipython",
    "version": 3
   },
   "file_extension": ".py",
   "mimetype": "text/x-python",
   "name": "python",
   "nbconvert_exporter": "python",
   "pygments_lexer": "ipython3",
   "version": "3.9.19"
  }
 },
 "nbformat": 4,
 "nbformat_minor": 2
}
