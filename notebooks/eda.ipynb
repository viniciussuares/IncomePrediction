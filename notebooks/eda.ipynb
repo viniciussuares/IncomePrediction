{
 "cells": [
  {
   "cell_type": "markdown",
   "metadata": {},
   "source": [
    "# Exploratory Data Analysis\n",
    "---"
   ]
  },
  {
   "cell_type": "markdown",
   "metadata": {},
   "source": [
    "**Objective:** Understand the variables, association between them and necessary transformations before model selection/building."
   ]
  },
  {
   "cell_type": "markdown",
   "metadata": {},
   "source": [
    "**Process:**\n",
    "1. Importing libraries and dataset\n",
    "2. Checking data types, nulls and outliers\n",
    "3. Univariate analysis (target)\n",
    "4. Bivariate analysis (relation to target)\n",
    "5. Multivariate analysis (multicollinearity)\n",
    "---"
   ]
  },
  {
   "cell_type": "markdown",
   "metadata": {},
   "source": [
    "## 1. Importing libraries and dataset"
   ]
  },
  {
   "cell_type": "code",
   "execution_count": 33,
   "metadata": {},
   "outputs": [
    {
     "data": {
      "text/plain": [
       "<module 'utils' from 'c:\\\\Users\\\\vsuar\\\\OneDrive\\\\Documentos\\\\IncomePrediction\\\\src\\\\utils.py'>"
      ]
     },
     "execution_count": 33,
     "metadata": {},
     "output_type": "execute_result"
    }
   ],
   "source": [
    "# Adding src to the path for modules\n",
    "import sys\n",
    "import os\n",
    "root_path = os.path.abspath('..')\n",
    "src_path = os.path.join(root_path, 'src')\n",
    "sys.path.append(src_path)\n",
    "\n",
    "# Data Manipulation\n",
    "import pandas as pd\n",
    "import numpy as np\n",
    "\n",
    "# Hypothesis Test\n",
    "import scipy.stats as stats\n",
    "\n",
    "# Data Viz\n",
    "import matplotlib.pyplot as plt\n",
    "import seaborn as sns\n",
    "\n",
    "# Project variables and functions\n",
    "import config \n",
    "import utils\n",
    "import importlib\n",
    "importlib.reload(utils)"
   ]
  },
  {
   "cell_type": "markdown",
   "metadata": {},
   "source": [
    "Importing the data and having a first look at it:"
   ]
  },
  {
   "cell_type": "code",
   "execution_count": 34,
   "metadata": {},
   "outputs": [
    {
     "data": {
      "text/html": [
       "<div>\n",
       "<style scoped>\n",
       "    .dataframe tbody tr th:only-of-type {\n",
       "        vertical-align: middle;\n",
       "    }\n",
       "\n",
       "    .dataframe tbody tr th {\n",
       "        vertical-align: top;\n",
       "    }\n",
       "\n",
       "    .dataframe thead th {\n",
       "        text-align: right;\n",
       "    }\n",
       "</style>\n",
       "<table border=\"1\" class=\"dataframe\">\n",
       "  <thead>\n",
       "    <tr style=\"text-align: right;\">\n",
       "      <th></th>\n",
       "      <th>year</th>\n",
       "      <th>quarter</th>\n",
       "      <th>state</th>\n",
       "      <th>age</th>\n",
       "      <th>sex</th>\n",
       "      <th>race</th>\n",
       "      <th>literate</th>\n",
       "      <th>highest_educational_level</th>\n",
       "      <th>years_studied</th>\n",
       "      <th>worker_type</th>\n",
       "      <th>work_segment</th>\n",
       "      <th>occupation_group</th>\n",
       "      <th>tax_payer</th>\n",
       "      <th>weekly_worked_hours</th>\n",
       "      <th>main_work_income</th>\n",
       "      <th>all_work_income</th>\n",
       "      <th>weekly_worked_hours_all_jobs</th>\n",
       "    </tr>\n",
       "  </thead>\n",
       "  <tbody>\n",
       "    <tr>\n",
       "      <th>1215810</th>\n",
       "      <td>2023</td>\n",
       "      <td>3</td>\n",
       "      <td>PA</td>\n",
       "      <td>52</td>\n",
       "      <td>1</td>\n",
       "      <td>2</td>\n",
       "      <td>1</td>\n",
       "      <td>2</td>\n",
       "      <td>6</td>\n",
       "      <td>1</td>\n",
       "      <td>7</td>\n",
       "      <td>3</td>\n",
       "      <td>1</td>\n",
       "      <td>3</td>\n",
       "      <td>1320.0</td>\n",
       "      <td>1320.0</td>\n",
       "      <td>44</td>\n",
       "    </tr>\n",
       "    <tr>\n",
       "      <th>1451496</th>\n",
       "      <td>2022</td>\n",
       "      <td>1</td>\n",
       "      <td>RS</td>\n",
       "      <td>58</td>\n",
       "      <td>1</td>\n",
       "      <td>1</td>\n",
       "      <td>1</td>\n",
       "      <td>2</td>\n",
       "      <td>6</td>\n",
       "      <td>1</td>\n",
       "      <td>5</td>\n",
       "      <td>8</td>\n",
       "      <td>1</td>\n",
       "      <td>5</td>\n",
       "      <td>4000.0</td>\n",
       "      <td>4000.0</td>\n",
       "      <td>50</td>\n",
       "    </tr>\n",
       "    <tr>\n",
       "      <th>1345647</th>\n",
       "      <td>2023</td>\n",
       "      <td>1</td>\n",
       "      <td>GO</td>\n",
       "      <td>52</td>\n",
       "      <td>1</td>\n",
       "      <td>4</td>\n",
       "      <td>2</td>\n",
       "      <td>2</td>\n",
       "      <td>2</td>\n",
       "      <td>9</td>\n",
       "      <td>5</td>\n",
       "      <td>8</td>\n",
       "      <td>2</td>\n",
       "      <td>4</td>\n",
       "      <td>3000.0</td>\n",
       "      <td>3000.0</td>\n",
       "      <td>48</td>\n",
       "    </tr>\n",
       "    <tr>\n",
       "      <th>1097447</th>\n",
       "      <td>2022</td>\n",
       "      <td>1</td>\n",
       "      <td>RO</td>\n",
       "      <td>53</td>\n",
       "      <td>2</td>\n",
       "      <td>4</td>\n",
       "      <td>1</td>\n",
       "      <td>7</td>\n",
       "      <td>16</td>\n",
       "      <td>7</td>\n",
       "      <td>9</td>\n",
       "      <td>2</td>\n",
       "      <td>1</td>\n",
       "      <td>3</td>\n",
       "      <td>3000.0</td>\n",
       "      <td>3000.0</td>\n",
       "      <td>40</td>\n",
       "    </tr>\n",
       "    <tr>\n",
       "      <th>215172</th>\n",
       "      <td>2021</td>\n",
       "      <td>2</td>\n",
       "      <td>MG</td>\n",
       "      <td>53</td>\n",
       "      <td>2</td>\n",
       "      <td>4</td>\n",
       "      <td>1</td>\n",
       "      <td>5</td>\n",
       "      <td>12</td>\n",
       "      <td>1</td>\n",
       "      <td>4</td>\n",
       "      <td>7</td>\n",
       "      <td>1</td>\n",
       "      <td>3</td>\n",
       "      <td>1100.0</td>\n",
       "      <td>1100.0</td>\n",
       "      <td>44</td>\n",
       "    </tr>\n",
       "    <tr>\n",
       "      <th>873891</th>\n",
       "      <td>2021</td>\n",
       "      <td>1</td>\n",
       "      <td>PR</td>\n",
       "      <td>42</td>\n",
       "      <td>2</td>\n",
       "      <td>1</td>\n",
       "      <td>1</td>\n",
       "      <td>7</td>\n",
       "      <td>16</td>\n",
       "      <td>7</td>\n",
       "      <td>9</td>\n",
       "      <td>2</td>\n",
       "      <td>1</td>\n",
       "      <td>5</td>\n",
       "      <td>2000.0</td>\n",
       "      <td>4600.0</td>\n",
       "      <td>60</td>\n",
       "    </tr>\n",
       "    <tr>\n",
       "      <th>1042053</th>\n",
       "      <td>2021</td>\n",
       "      <td>3</td>\n",
       "      <td>MT</td>\n",
       "      <td>34</td>\n",
       "      <td>1</td>\n",
       "      <td>4</td>\n",
       "      <td>1</td>\n",
       "      <td>5</td>\n",
       "      <td>12</td>\n",
       "      <td>1</td>\n",
       "      <td>2</td>\n",
       "      <td>3</td>\n",
       "      <td>1</td>\n",
       "      <td>2</td>\n",
       "      <td>3000.0</td>\n",
       "      <td>3000.0</td>\n",
       "      <td>24</td>\n",
       "    </tr>\n",
       "    <tr>\n",
       "      <th>184220</th>\n",
       "      <td>2023</td>\n",
       "      <td>4</td>\n",
       "      <td>MA</td>\n",
       "      <td>35</td>\n",
       "      <td>1</td>\n",
       "      <td>4</td>\n",
       "      <td>2</td>\n",
       "      <td>1</td>\n",
       "      <td>0</td>\n",
       "      <td>2</td>\n",
       "      <td>1</td>\n",
       "      <td>6</td>\n",
       "      <td>2</td>\n",
       "      <td>5</td>\n",
       "      <td>605.0</td>\n",
       "      <td>605.0</td>\n",
       "      <td>60</td>\n",
       "    </tr>\n",
       "    <tr>\n",
       "      <th>1521830</th>\n",
       "      <td>2023</td>\n",
       "      <td>4</td>\n",
       "      <td>PB</td>\n",
       "      <td>35</td>\n",
       "      <td>2</td>\n",
       "      <td>1</td>\n",
       "      <td>1</td>\n",
       "      <td>7</td>\n",
       "      <td>16</td>\n",
       "      <td>1</td>\n",
       "      <td>7</td>\n",
       "      <td>4</td>\n",
       "      <td>1</td>\n",
       "      <td>3</td>\n",
       "      <td>2400.0</td>\n",
       "      <td>2400.0</td>\n",
       "      <td>40</td>\n",
       "    </tr>\n",
       "    <tr>\n",
       "      <th>60992</th>\n",
       "      <td>2022</td>\n",
       "      <td>1</td>\n",
       "      <td>MA</td>\n",
       "      <td>37</td>\n",
       "      <td>2</td>\n",
       "      <td>4</td>\n",
       "      <td>1</td>\n",
       "      <td>7</td>\n",
       "      <td>16</td>\n",
       "      <td>7</td>\n",
       "      <td>9</td>\n",
       "      <td>3</td>\n",
       "      <td>1</td>\n",
       "      <td>3</td>\n",
       "      <td>1800.0</td>\n",
       "      <td>1800.0</td>\n",
       "      <td>40</td>\n",
       "    </tr>\n",
       "  </tbody>\n",
       "</table>\n",
       "</div>"
      ],
      "text/plain": [
       "         year  quarter state  age  sex  race  literate  \\\n",
       "1215810  2023        3    PA   52    1     2         1   \n",
       "1451496  2022        1    RS   58    1     1         1   \n",
       "1345647  2023        1    GO   52    1     4         2   \n",
       "1097447  2022        1    RO   53    2     4         1   \n",
       "215172   2021        2    MG   53    2     4         1   \n",
       "873891   2021        1    PR   42    2     1         1   \n",
       "1042053  2021        3    MT   34    1     4         1   \n",
       "184220   2023        4    MA   35    1     4         2   \n",
       "1521830  2023        4    PB   35    2     1         1   \n",
       "60992    2022        1    MA   37    2     4         1   \n",
       "\n",
       "         highest_educational_level  years_studied  worker_type  work_segment  \\\n",
       "1215810                          2              6            1             7   \n",
       "1451496                          2              6            1             5   \n",
       "1345647                          2              2            9             5   \n",
       "1097447                          7             16            7             9   \n",
       "215172                           5             12            1             4   \n",
       "873891                           7             16            7             9   \n",
       "1042053                          5             12            1             2   \n",
       "184220                           1              0            2             1   \n",
       "1521830                          7             16            1             7   \n",
       "60992                            7             16            7             9   \n",
       "\n",
       "         occupation_group  tax_payer  weekly_worked_hours  main_work_income  \\\n",
       "1215810                 3          1                    3            1320.0   \n",
       "1451496                 8          1                    5            4000.0   \n",
       "1345647                 8          2                    4            3000.0   \n",
       "1097447                 2          1                    3            3000.0   \n",
       "215172                  7          1                    3            1100.0   \n",
       "873891                  2          1                    5            2000.0   \n",
       "1042053                 3          1                    2            3000.0   \n",
       "184220                  6          2                    5             605.0   \n",
       "1521830                 4          1                    3            2400.0   \n",
       "60992                   3          1                    3            1800.0   \n",
       "\n",
       "         all_work_income  weekly_worked_hours_all_jobs  \n",
       "1215810           1320.0                            44  \n",
       "1451496           4000.0                            50  \n",
       "1345647           3000.0                            48  \n",
       "1097447           3000.0                            40  \n",
       "215172            1100.0                            44  \n",
       "873891            4600.0                            60  \n",
       "1042053           3000.0                            24  \n",
       "184220             605.0                            60  \n",
       "1521830           2400.0                            40  \n",
       "60992             1800.0                            40  "
      ]
     },
     "execution_count": 34,
     "metadata": {},
     "output_type": "execute_result"
    }
   ],
   "source": [
    "# Importing\n",
    "df = utils.read_compressed_data(config.COLLECTED_DATA_PATH)\n",
    "\n",
    "# First look\n",
    "df.sample(10)"
   ]
  },
  {
   "cell_type": "markdown",
   "metadata": {},
   "source": [
    "---\n",
    "## 2. Checking data types, nulls and outliers"
   ]
  },
  {
   "cell_type": "markdown",
   "metadata": {},
   "source": [
    "Checking types:"
   ]
  },
  {
   "cell_type": "code",
   "execution_count": 35,
   "metadata": {},
   "outputs": [
    {
     "data": {
      "text/plain": [
       "year                              int64\n",
       "quarter                           int64\n",
       "state                            object\n",
       "age                               int64\n",
       "sex                               int64\n",
       "race                              int64\n",
       "literate                          int64\n",
       "highest_educational_level         int64\n",
       "years_studied                     int64\n",
       "worker_type                       int64\n",
       "work_segment                      int64\n",
       "occupation_group                  int64\n",
       "tax_payer                         int64\n",
       "weekly_worked_hours               int64\n",
       "main_work_income                float64\n",
       "all_work_income                 float64\n",
       "weekly_worked_hours_all_jobs      int64\n",
       "dtype: object"
      ]
     },
     "execution_count": 35,
     "metadata": {},
     "output_type": "execute_result"
    }
   ],
   "source": [
    "# Types\n",
    "df.dtypes"
   ]
  },
  {
   "cell_type": "markdown",
   "metadata": {},
   "source": [
    "Although almost all columns are codified as numeric, most of them are truly categorical.    \n",
    "The ones that are numeric should be stored in a separate variable."
   ]
  },
  {
   "cell_type": "code",
   "execution_count": 36,
   "metadata": {},
   "outputs": [],
   "source": [
    "truly_numeric = ['year', 'quarter', 'age', 'years_studied', 'main_work_income', 'all_work_income']"
   ]
  },
  {
   "cell_type": "markdown",
   "metadata": {},
   "source": [
    "Checking nulls:"
   ]
  },
  {
   "cell_type": "code",
   "execution_count": 37,
   "metadata": {},
   "outputs": [
    {
     "name": "stdout",
     "output_type": "stream",
     "text": [
      "Null Percentage by Column: \n"
     ]
    },
    {
     "data": {
      "text/plain": [
       "year                             0.00%\n",
       "worker_type                      0.00%\n",
       "all_work_income                  0.00%\n",
       "main_work_income                 0.00%\n",
       "weekly_worked_hours              0.00%\n",
       "tax_payer                        0.00%\n",
       "occupation_group                 0.00%\n",
       "work_segment                     0.00%\n",
       "years_studied                    0.00%\n",
       "quarter                          0.00%\n",
       "highest_educational_level        0.00%\n",
       "literate                         0.00%\n",
       "race                             0.00%\n",
       "sex                              0.00%\n",
       "age                              0.00%\n",
       "state                            0.00%\n",
       "weekly_worked_hours_all_jobs     0.00%\n",
       "dtype: object"
      ]
     },
     "execution_count": 37,
     "metadata": {},
     "output_type": "execute_result"
    }
   ],
   "source": [
    "# Nulls\n",
    "utils.nulls_percentage(df)"
   ]
  },
  {
   "cell_type": "markdown",
   "metadata": {},
   "source": [
    "Checking outliers:"
   ]
  },
  {
   "cell_type": "code",
   "execution_count": 24,
   "metadata": {},
   "outputs": [
    {
     "name": "stdout",
     "output_type": "stream",
     "text": [
      "Percentage of Outliers per Column: \n"
     ]
    },
    {
     "data": {
      "text/html": [
       "<div>\n",
       "<style scoped>\n",
       "    .dataframe tbody tr th:only-of-type {\n",
       "        vertical-align: middle;\n",
       "    }\n",
       "\n",
       "    .dataframe tbody tr th {\n",
       "        vertical-align: top;\n",
       "    }\n",
       "\n",
       "    .dataframe thead th {\n",
       "        text-align: right;\n",
       "    }\n",
       "</style>\n",
       "<table border=\"1\" class=\"dataframe\">\n",
       "  <thead>\n",
       "    <tr style=\"text-align: right;\">\n",
       "      <th></th>\n",
       "      <th>Inner Fence</th>\n",
       "      <th>Outer Fence</th>\n",
       "    </tr>\n",
       "  </thead>\n",
       "  <tbody>\n",
       "    <tr>\n",
       "      <th>year</th>\n",
       "      <td>0.00%</td>\n",
       "      <td>0.00%</td>\n",
       "    </tr>\n",
       "    <tr>\n",
       "      <th>quarter</th>\n",
       "      <td>0.00%</td>\n",
       "      <td>0.00%</td>\n",
       "    </tr>\n",
       "    <tr>\n",
       "      <th>age</th>\n",
       "      <td>0.07%</td>\n",
       "      <td>0.00%</td>\n",
       "    </tr>\n",
       "    <tr>\n",
       "      <th>years_studied</th>\n",
       "      <td>3.07%</td>\n",
       "      <td>0.00%</td>\n",
       "    </tr>\n",
       "    <tr>\n",
       "      <th>main_work_income</th>\n",
       "      <td>10.46%</td>\n",
       "      <td>5.56%</td>\n",
       "    </tr>\n",
       "    <tr>\n",
       "      <th>all_work_income</th>\n",
       "      <td>11.06%</td>\n",
       "      <td>5.94%</td>\n",
       "    </tr>\n",
       "  </tbody>\n",
       "</table>\n",
       "</div>"
      ],
      "text/plain": [
       "                 Inner Fence Outer Fence\n",
       "year                   0.00%       0.00%\n",
       "quarter                0.00%       0.00%\n",
       "age                    0.07%       0.00%\n",
       "years_studied          3.07%       0.00%\n",
       "main_work_income      10.46%       5.56%\n",
       "all_work_income       11.06%       5.94%"
      ]
     },
     "execution_count": 24,
     "metadata": {},
     "output_type": "execute_result"
    }
   ],
   "source": [
    "utils.outlier_percentage(df[truly_numeric])"
   ]
  },
  {
   "cell_type": "markdown",
   "metadata": {},
   "source": [
    "Inner Fence showed itself to be a lot more sensitive to outliers.   \n",
    "Using outer fence keeps roughly 95% of income as it is right now, and probably will be the preferred method.   \n",
    "I'll check the description to understand where these outliers may be."
   ]
  },
  {
   "cell_type": "code",
   "execution_count": 7,
   "metadata": {},
   "outputs": [
    {
     "data": {
      "text/html": [
       "<div>\n",
       "<style scoped>\n",
       "    .dataframe tbody tr th:only-of-type {\n",
       "        vertical-align: middle;\n",
       "    }\n",
       "\n",
       "    .dataframe tbody tr th {\n",
       "        vertical-align: top;\n",
       "    }\n",
       "\n",
       "    .dataframe thead th {\n",
       "        text-align: right;\n",
       "    }\n",
       "</style>\n",
       "<table border=\"1\" class=\"dataframe\">\n",
       "  <thead>\n",
       "    <tr style=\"text-align: right;\">\n",
       "      <th></th>\n",
       "      <th>year</th>\n",
       "      <th>quarter</th>\n",
       "      <th>age</th>\n",
       "      <th>years_studied</th>\n",
       "      <th>main_work_income</th>\n",
       "      <th>all_work_income</th>\n",
       "    </tr>\n",
       "  </thead>\n",
       "  <tbody>\n",
       "    <tr>\n",
       "      <th>mean</th>\n",
       "      <td>2022.1</td>\n",
       "      <td>2.6</td>\n",
       "      <td>40.7</td>\n",
       "      <td>10.7</td>\n",
       "      <td>2417.7</td>\n",
       "      <td>2489.3</td>\n",
       "    </tr>\n",
       "    <tr>\n",
       "      <th>std</th>\n",
       "      <td>0.8</td>\n",
       "      <td>1.1</td>\n",
       "      <td>13.5</td>\n",
       "      <td>4.3</td>\n",
       "      <td>3660.5</td>\n",
       "      <td>3894.9</td>\n",
       "    </tr>\n",
       "    <tr>\n",
       "      <th>min</th>\n",
       "      <td>2021.0</td>\n",
       "      <td>1.0</td>\n",
       "      <td>14.0</td>\n",
       "      <td>0.0</td>\n",
       "      <td>2.0</td>\n",
       "      <td>2.0</td>\n",
       "    </tr>\n",
       "    <tr>\n",
       "      <th>25%</th>\n",
       "      <td>2021.0</td>\n",
       "      <td>2.0</td>\n",
       "      <td>30.0</td>\n",
       "      <td>8.0</td>\n",
       "      <td>1100.0</td>\n",
       "      <td>1100.0</td>\n",
       "    </tr>\n",
       "    <tr>\n",
       "      <th>50%</th>\n",
       "      <td>2022.0</td>\n",
       "      <td>3.0</td>\n",
       "      <td>40.0</td>\n",
       "      <td>12.0</td>\n",
       "      <td>1500.0</td>\n",
       "      <td>1500.0</td>\n",
       "    </tr>\n",
       "    <tr>\n",
       "      <th>75%</th>\n",
       "      <td>2023.0</td>\n",
       "      <td>4.0</td>\n",
       "      <td>51.0</td>\n",
       "      <td>13.0</td>\n",
       "      <td>2500.0</td>\n",
       "      <td>2500.0</td>\n",
       "    </tr>\n",
       "    <tr>\n",
       "      <th>max</th>\n",
       "      <td>2023.0</td>\n",
       "      <td>4.0</td>\n",
       "      <td>114.0</td>\n",
       "      <td>16.0</td>\n",
       "      <td>300000.0</td>\n",
       "      <td>900000.0</td>\n",
       "    </tr>\n",
       "  </tbody>\n",
       "</table>\n",
       "</div>"
      ],
      "text/plain": [
       "        year  quarter    age  years_studied  main_work_income  all_work_income\n",
       "mean  2022.1      2.6   40.7           10.7            2417.7           2489.3\n",
       "std      0.8      1.1   13.5            4.3            3660.5           3894.9\n",
       "min   2021.0      1.0   14.0            0.0               2.0              2.0\n",
       "25%   2021.0      2.0   30.0            8.0            1100.0           1100.0\n",
       "50%   2022.0      3.0   40.0           12.0            1500.0           1500.0\n",
       "75%   2023.0      4.0   51.0           13.0            2500.0           2500.0\n",
       "max   2023.0      4.0  114.0           16.0          300000.0         900000.0"
      ]
     },
     "execution_count": 7,
     "metadata": {},
     "output_type": "execute_result"
    }
   ],
   "source": [
    "utils.formatted_description(df[truly_numeric])"
   ]
  },
  {
   "cell_type": "markdown",
   "metadata": {},
   "source": [
    "Doing a quick math, I see that inner fence was more sensitive to rows with few years studied and high income.    \n",
    "I consider the intervals to be acceptable and therefore confirm my option for the outer fence method for dealing with outliers. "
   ]
  },
  {
   "cell_type": "markdown",
   "metadata": {},
   "source": [
    "----\n",
    "## 3. Univariate Analysis (Target)"
   ]
  },
  {
   "cell_type": "markdown",
   "metadata": {},
   "source": [
    "First, it seems that main_work_income is almost always the same as all_work_income.    \n",
    "I want to quantify how much similiar are they."
   ]
  },
  {
   "cell_type": "code",
   "execution_count": 26,
   "metadata": {},
   "outputs": [
    {
     "name": "stdout",
     "output_type": "stream",
     "text": [
      "Propostion of rows where main income represents all income: 96.99%\n"
     ]
    }
   ],
   "source": [
    "main_is_all = df.loc[df['all_work_income']==df['main_work_income']].shape[0] / df.shape[0]\n",
    "print(f'Propostion of rows where main income represents all income: {main_is_all * 100 :.2f}%')"
   ]
  },
  {
   "cell_type": "markdown",
   "metadata": {},
   "source": [
    "Although they are roughly 97% of time the same, I'll use the all_work_income column for the analysis/prediction. "
   ]
  },
  {
   "cell_type": "markdown",
   "metadata": {},
   "source": [
    "Treating outliers:"
   ]
  },
  {
   "cell_type": "code",
   "execution_count": 38,
   "metadata": {},
   "outputs": [
    {
     "name": "stdout",
     "output_type": "stream",
     "text": [
      "Max before winsorization: 900000.0\n",
      "Max after winsorization: 6700.0\n"
     ]
    }
   ],
   "source": [
    "print('Max before winsorization:', df['all_work_income'].max())\n",
    "df['all_work_income'] = utils.winsorizing_outliers(df['all_work_income'])\n",
    "print('Max after winsorization:', df['all_work_income'].max())"
   ]
  },
  {
   "cell_type": "code",
   "execution_count": 12,
   "metadata": {},
   "outputs": [
    {
     "data": {
      "image/png": "[encoded data removed]",
      "text/plain": [
       "<Figure size 640x480 with 1 Axes>"
      ]
     },
     "metadata": {},
     "output_type": "display_data"
    }
   ],
   "source": [
    "sns.histplot(df['all_work_income'], kde=True, stat='percent', binwidth=1000)\n",
    "plt.title('Income Distribution')\n",
    "plt.show()"
   ]
  },
  {
   "cell_type": "code",
   "execution_count": null,
   "metadata": {},
   "outputs": [],
   "source": []
  }
 ],
 "metadata": {
  "kernelspec": {
   "display_name": "venv",
   "language": "python",
   "name": "python3"
  },
  "language_info": {
   "codemirror_mode": {
    "name": "ipython",
    "version": 3
   },
   "file_extension": ".py",
   "mimetype": "text/x-python",
   "name": "python",
   "nbconvert_exporter": "python",
   "pygments_lexer": "ipython3",
   "version": "3.9.19"
  }
 },
 "nbformat": 4,
 "nbformat_minor": 2
}
