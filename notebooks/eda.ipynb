{
 "cells": [
  {
   "cell_type": "code",
   "execution_count": 1,
   "metadata": {},
   "outputs": [
    {
     "name": "stderr",
     "output_type": "stream",
     "text": [
      "Matplotlib is building the font cache; this may take a moment.\n"
     ]
    }
   ],
   "source": [
    "import sys\n",
    "import os\n",
    "import pandas as pd\n",
    "import numpy as np\n",
    "import scipy.stats as stats\n",
    "import matplotlib.pyplot as plt\n",
    "import seaborn as sns"
   ]
  },
  {
   "cell_type": "code",
   "execution_count": 4,
   "metadata": {},
   "outputs": [],
   "source": [
    "# Defining paths\n",
    "root_path = os.path.abspath('..')\n",
    "src_path = os.path.join(root_path, \"src\")\n",
    "sys.path.append(src_path)\n"
   ]
  },
  {
   "cell_type": "code",
   "execution_count": 5,
   "metadata": {},
   "outputs": [],
   "source": [
    "import utils\n",
    "import config"
   ]
  },
  {
   "cell_type": "code",
   "execution_count": 6,
   "metadata": {},
   "outputs": [
    {
     "name": "stdout",
     "output_type": "stream",
     "text": [
      "<class 'pandas.core.frame.DataFrame'>\n",
      "RangeIndex: 2207251 entries, 0 to 2207250\n",
      "Data columns (total 17 columns):\n",
      " #   Column                        Dtype  \n",
      "---  ------                        -----  \n",
      " 0   year                          int64  \n",
      " 1   quarter                       int64  \n",
      " 2   state                         object \n",
      " 3   age                           int64  \n",
      " 4   sex                           int64  \n",
      " 5   race                          int64  \n",
      " 6   literate                      int64  \n",
      " 7   highest_educational_level     int64  \n",
      " 8   years_studied                 int64  \n",
      " 9   worker_type                   int64  \n",
      " 10  work_segment                  int64  \n",
      " 11  occupation_group              int64  \n",
      " 12  tax_payer                     int64  \n",
      " 13  weekly_worked_hours           int64  \n",
      " 14  main_work_income              float64\n",
      " 15  all_work_income               float64\n",
      " 16  weekly_worked_hours_all_jobs  int64  \n",
      "dtypes: float64(2), int64(14), object(1)\n",
      "memory usage: 286.3+ MB\n"
     ]
    }
   ],
   "source": [
    "# First look at collected data structure\n",
    "df = utils.read_compressed_data(config.COLLECTED_DATA_PATH)\n",
    "df.info()"
   ]
  }
 ],
 "metadata": {
  "kernelspec": {
   "display_name": "venv",
   "language": "python",
   "name": "python3"
  },
  "language_info": {
   "codemirror_mode": {
    "name": "ipython",
    "version": 3
   },
   "file_extension": ".py",
   "mimetype": "text/x-python",
   "name": "python",
   "nbconvert_exporter": "python",
   "pygments_lexer": "ipython3",
   "version": "3.9.19"
  }
 },
 "nbformat": 4,
 "nbformat_minor": 2
}
