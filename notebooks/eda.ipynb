{
 "cells": [
  {
   "cell_type": "markdown",
   "metadata": {},
   "source": [
    "# Exploratory Data Analysis\n",
    "---"
   ]
  },
  {
   "cell_type": "markdown",
   "metadata": {},
   "source": [
    "**Objective:** Understand the variables, association between them and necessary transformations before model selection/building."
   ]
  },
  {
   "cell_type": "markdown",
   "metadata": {},
   "source": [
    "**Process:**\n",
    "1. Importing libraries and dataset\n",
    "2. Checking data types, nulls and outliers\n",
    "3. Univariate analysis (target)\n",
    "4. Bivariate analysis (relation to target)\n",
    "5. Multivariate analysis (multicollinearity)\n",
    "---"
   ]
  },
  {
   "cell_type": "markdown",
   "metadata": {},
   "source": [
    "## 1. Importing libraries and dataset"
   ]
  },
  {
   "cell_type": "code",
   "execution_count": null,
   "metadata": {},
   "outputs": [],
   "source": [
    "# Adding src to the path for modules\n",
    "import sys\n",
    "import os\n",
    "root_path = os.path.abspath('..')\n",
    "src_path = os.path.join(root_path, 'src')\n",
    "sys.path.append(src_path)\n",
    "\n",
    "# Data Manipulation\n",
    "import pandas as pd\n",
    "import numpy as np\n",
    "\n",
    "# Hypothesis Testing\n",
    "import scipy.stats as stats\n",
    "\n",
    "# Data Viz\n",
    "import matplotlib.pyplot as plt\n",
    "import seaborn as sns\n",
    "\n",
    "# Project variables and functions\n",
    "import config \n",
    "import utils\n",
    "import importlib\n",
    "importlib.reload(utils)"
   ]
  },
  {
   "cell_type": "markdown",
   "metadata": {},
   "source": [
    "Importing the data and having a first look at it:"
   ]
  },
  {
   "cell_type": "code",
   "execution_count": 2,
   "metadata": {},
   "outputs": [
    {
     "data": {
      "text/html": [
       "<div>\n",
       "<style scoped>\n",
       "    .dataframe tbody tr th:only-of-type {\n",
       "        vertical-align: middle;\n",
       "    }\n",
       "\n",
       "    .dataframe tbody tr th {\n",
       "        vertical-align: top;\n",
       "    }\n",
       "\n",
       "    .dataframe thead th {\n",
       "        text-align: right;\n",
       "    }\n",
       "</style>\n",
       "<table border=\"1\" class=\"dataframe\">\n",
       "  <thead>\n",
       "    <tr style=\"text-align: right;\">\n",
       "      <th></th>\n",
       "      <th>state</th>\n",
       "      <th>age</th>\n",
       "      <th>sex</th>\n",
       "      <th>race</th>\n",
       "      <th>literate</th>\n",
       "      <th>highest_educational_level</th>\n",
       "      <th>years_studied</th>\n",
       "      <th>worker_type</th>\n",
       "      <th>work_segment</th>\n",
       "      <th>occupation_group</th>\n",
       "      <th>tax_payer</th>\n",
       "      <th>weekly_worked_hours</th>\n",
       "      <th>main_work_income</th>\n",
       "      <th>all_work_income</th>\n",
       "      <th>weekly_worked_hours_all_jobs</th>\n",
       "    </tr>\n",
       "  </thead>\n",
       "  <tbody>\n",
       "    <tr>\n",
       "      <th>73062</th>\n",
       "      <td>SP</td>\n",
       "      <td>50</td>\n",
       "      <td>2</td>\n",
       "      <td>4</td>\n",
       "      <td>1</td>\n",
       "      <td>2</td>\n",
       "      <td>4</td>\n",
       "      <td>1</td>\n",
       "      <td>7</td>\n",
       "      <td>9</td>\n",
       "      <td>1</td>\n",
       "      <td>2</td>\n",
       "      <td>700.0</td>\n",
       "      <td>700.0</td>\n",
       "      <td>24</td>\n",
       "    </tr>\n",
       "    <tr>\n",
       "      <th>465606</th>\n",
       "      <td>SC</td>\n",
       "      <td>27</td>\n",
       "      <td>1</td>\n",
       "      <td>1</td>\n",
       "      <td>1</td>\n",
       "      <td>5</td>\n",
       "      <td>12</td>\n",
       "      <td>1</td>\n",
       "      <td>2</td>\n",
       "      <td>9</td>\n",
       "      <td>1</td>\n",
       "      <td>3</td>\n",
       "      <td>3500.0</td>\n",
       "      <td>3500.0</td>\n",
       "      <td>44</td>\n",
       "    </tr>\n",
       "    <tr>\n",
       "      <th>772812</th>\n",
       "      <td>MG</td>\n",
       "      <td>35</td>\n",
       "      <td>2</td>\n",
       "      <td>4</td>\n",
       "      <td>1</td>\n",
       "      <td>7</td>\n",
       "      <td>16</td>\n",
       "      <td>7</td>\n",
       "      <td>8</td>\n",
       "      <td>4</td>\n",
       "      <td>1</td>\n",
       "      <td>3</td>\n",
       "      <td>1320.0</td>\n",
       "      <td>1320.0</td>\n",
       "      <td>44</td>\n",
       "    </tr>\n",
       "    <tr>\n",
       "      <th>74431</th>\n",
       "      <td>RN</td>\n",
       "      <td>59</td>\n",
       "      <td>2</td>\n",
       "      <td>4</td>\n",
       "      <td>1</td>\n",
       "      <td>2</td>\n",
       "      <td>4</td>\n",
       "      <td>3</td>\n",
       "      <td>11</td>\n",
       "      <td>9</td>\n",
       "      <td>1</td>\n",
       "      <td>3</td>\n",
       "      <td>1320.0</td>\n",
       "      <td>1320.0</td>\n",
       "      <td>44</td>\n",
       "    </tr>\n",
       "    <tr>\n",
       "      <th>472183</th>\n",
       "      <td>RJ</td>\n",
       "      <td>33</td>\n",
       "      <td>1</td>\n",
       "      <td>1</td>\n",
       "      <td>1</td>\n",
       "      <td>5</td>\n",
       "      <td>12</td>\n",
       "      <td>1</td>\n",
       "      <td>4</td>\n",
       "      <td>5</td>\n",
       "      <td>1</td>\n",
       "      <td>3</td>\n",
       "      <td>3000.0</td>\n",
       "      <td>3000.0</td>\n",
       "      <td>40</td>\n",
       "    </tr>\n",
       "    <tr>\n",
       "      <th>486979</th>\n",
       "      <td>SP</td>\n",
       "      <td>32</td>\n",
       "      <td>2</td>\n",
       "      <td>1</td>\n",
       "      <td>1</td>\n",
       "      <td>5</td>\n",
       "      <td>12</td>\n",
       "      <td>1</td>\n",
       "      <td>4</td>\n",
       "      <td>4</td>\n",
       "      <td>1</td>\n",
       "      <td>3</td>\n",
       "      <td>1800.0</td>\n",
       "      <td>1800.0</td>\n",
       "      <td>44</td>\n",
       "    </tr>\n",
       "    <tr>\n",
       "      <th>633756</th>\n",
       "      <td>PR</td>\n",
       "      <td>54</td>\n",
       "      <td>1</td>\n",
       "      <td>1</td>\n",
       "      <td>1</td>\n",
       "      <td>6</td>\n",
       "      <td>15</td>\n",
       "      <td>9</td>\n",
       "      <td>3</td>\n",
       "      <td>5</td>\n",
       "      <td>1</td>\n",
       "      <td>2</td>\n",
       "      <td>3200.0</td>\n",
       "      <td>3200.0</td>\n",
       "      <td>30</td>\n",
       "    </tr>\n",
       "    <tr>\n",
       "      <th>574802</th>\n",
       "      <td>AC</td>\n",
       "      <td>43</td>\n",
       "      <td>1</td>\n",
       "      <td>4</td>\n",
       "      <td>1</td>\n",
       "      <td>6</td>\n",
       "      <td>13</td>\n",
       "      <td>5</td>\n",
       "      <td>5</td>\n",
       "      <td>4</td>\n",
       "      <td>1</td>\n",
       "      <td>3</td>\n",
       "      <td>3500.0</td>\n",
       "      <td>3500.0</td>\n",
       "      <td>44</td>\n",
       "    </tr>\n",
       "    <tr>\n",
       "      <th>678910</th>\n",
       "      <td>MT</td>\n",
       "      <td>59</td>\n",
       "      <td>2</td>\n",
       "      <td>1</td>\n",
       "      <td>1</td>\n",
       "      <td>7</td>\n",
       "      <td>16</td>\n",
       "      <td>2</td>\n",
       "      <td>6</td>\n",
       "      <td>1</td>\n",
       "      <td>1</td>\n",
       "      <td>4</td>\n",
       "      <td>8000.0</td>\n",
       "      <td>8000.0</td>\n",
       "      <td>48</td>\n",
       "    </tr>\n",
       "    <tr>\n",
       "      <th>206308</th>\n",
       "      <td>AL</td>\n",
       "      <td>43</td>\n",
       "      <td>2</td>\n",
       "      <td>1</td>\n",
       "      <td>1</td>\n",
       "      <td>3</td>\n",
       "      <td>9</td>\n",
       "      <td>2</td>\n",
       "      <td>1</td>\n",
       "      <td>9</td>\n",
       "      <td>1</td>\n",
       "      <td>1</td>\n",
       "      <td>100.0</td>\n",
       "      <td>100.0</td>\n",
       "      <td>2</td>\n",
       "    </tr>\n",
       "  </tbody>\n",
       "</table>\n",
       "</div>"
      ],
      "text/plain": [
       "       state  age  sex  race  literate  highest_educational_level  \\\n",
       "73062     SP   50    2     4         1                          2   \n",
       "465606    SC   27    1     1         1                          5   \n",
       "772812    MG   35    2     4         1                          7   \n",
       "74431     RN   59    2     4         1                          2   \n",
       "472183    RJ   33    1     1         1                          5   \n",
       "486979    SP   32    2     1         1                          5   \n",
       "633756    PR   54    1     1         1                          6   \n",
       "574802    AC   43    1     4         1                          6   \n",
       "678910    MT   59    2     1         1                          7   \n",
       "206308    AL   43    2     1         1                          3   \n",
       "\n",
       "        years_studied  worker_type  work_segment  occupation_group  tax_payer  \\\n",
       "73062               4            1             7                 9          1   \n",
       "465606             12            1             2                 9          1   \n",
       "772812             16            7             8                 4          1   \n",
       "74431               4            3            11                 9          1   \n",
       "472183             12            1             4                 5          1   \n",
       "486979             12            1             4                 4          1   \n",
       "633756             15            9             3                 5          1   \n",
       "574802             13            5             5                 4          1   \n",
       "678910             16            2             6                 1          1   \n",
       "206308              9            2             1                 9          1   \n",
       "\n",
       "        weekly_worked_hours  main_work_income  all_work_income  \\\n",
       "73062                     2             700.0            700.0   \n",
       "465606                    3            3500.0           3500.0   \n",
       "772812                    3            1320.0           1320.0   \n",
       "74431                     3            1320.0           1320.0   \n",
       "472183                    3            3000.0           3000.0   \n",
       "486979                    3            1800.0           1800.0   \n",
       "633756                    2            3200.0           3200.0   \n",
       "574802                    3            3500.0           3500.0   \n",
       "678910                    4            8000.0           8000.0   \n",
       "206308                    1             100.0            100.0   \n",
       "\n",
       "        weekly_worked_hours_all_jobs  \n",
       "73062                             24  \n",
       "465606                            44  \n",
       "772812                            44  \n",
       "74431                             44  \n",
       "472183                            40  \n",
       "486979                            44  \n",
       "633756                            30  \n",
       "574802                            44  \n",
       "678910                            48  \n",
       "206308                             2  "
      ]
     },
     "execution_count": 2,
     "metadata": {},
     "output_type": "execute_result"
    }
   ],
   "source": [
    "# Importing\n",
    "df = utils.read_compressed_data(config.COLLECTED_DATA_PATH)\n",
    "\n",
    "# First look\n",
    "df.sample(10)"
   ]
  },
  {
   "cell_type": "markdown",
   "metadata": {},
   "source": [
    "---\n",
    "## 2. Checking data types, nulls and outliers"
   ]
  },
  {
   "cell_type": "markdown",
   "metadata": {},
   "source": [
    "Checking types:"
   ]
  },
  {
   "cell_type": "code",
   "execution_count": 3,
   "metadata": {},
   "outputs": [
    {
     "data": {
      "text/plain": [
       "state                            object\n",
       "age                               int64\n",
       "sex                               int64\n",
       "race                              int64\n",
       "literate                          int64\n",
       "highest_educational_level         int64\n",
       "years_studied                     int64\n",
       "worker_type                       int64\n",
       "work_segment                      int64\n",
       "occupation_group                  int64\n",
       "tax_payer                         int64\n",
       "weekly_worked_hours               int64\n",
       "main_work_income                float64\n",
       "all_work_income                 float64\n",
       "weekly_worked_hours_all_jobs      int64\n",
       "dtype: object"
      ]
     },
     "execution_count": 3,
     "metadata": {},
     "output_type": "execute_result"
    }
   ],
   "source": [
    "# Types\n",
    "df.dtypes"
   ]
  },
  {
   "cell_type": "markdown",
   "metadata": {},
   "source": [
    "Although almost all columns are codified as numeric, most of them are truly categorical.    \n",
    "The ones that are numeric should be stored in a separate variable."
   ]
  },
  {
   "cell_type": "code",
   "execution_count": 4,
   "metadata": {},
   "outputs": [],
   "source": [
    "truly_numeric = ['age', 'years_studied', 'main_work_income', 'all_work_income', 'weekly_worked_hours_all_jobs']"
   ]
  },
  {
   "cell_type": "markdown",
   "metadata": {},
   "source": [
    "Checking nulls:"
   ]
  },
  {
   "cell_type": "code",
   "execution_count": 5,
   "metadata": {},
   "outputs": [
    {
     "name": "stdout",
     "output_type": "stream",
     "text": [
      "Nulls Percentage by Column: \n"
     ]
    },
    {
     "data": {
      "text/plain": [
       "state                            0.00%\n",
       "age                              0.00%\n",
       "sex                              0.00%\n",
       "race                             0.00%\n",
       "literate                         0.00%\n",
       "highest_educational_level        0.00%\n",
       "years_studied                    0.00%\n",
       "worker_type                      0.00%\n",
       "work_segment                     0.00%\n",
       "occupation_group                 0.00%\n",
       "tax_payer                        0.00%\n",
       "weekly_worked_hours              0.00%\n",
       "main_work_income                 0.00%\n",
       "all_work_income                  0.00%\n",
       "weekly_worked_hours_all_jobs     0.00%\n",
       "dtype: object"
      ]
     },
     "execution_count": 5,
     "metadata": {},
     "output_type": "execute_result"
    }
   ],
   "source": [
    "# Nulls\n",
    "utils.nulls_percentage(df)"
   ]
  },
  {
   "cell_type": "markdown",
   "metadata": {},
   "source": [
    "Checking outliers:"
   ]
  },
  {
   "cell_type": "code",
   "execution_count": 6,
   "metadata": {},
   "outputs": [
    {
     "name": "stdout",
     "output_type": "stream",
     "text": [
      "Percentage of Outliers per Column: \n"
     ]
    },
    {
     "data": {
      "text/html": [
       "<div>\n",
       "<style scoped>\n",
       "    .dataframe tbody tr th:only-of-type {\n",
       "        vertical-align: middle;\n",
       "    }\n",
       "\n",
       "    .dataframe tbody tr th {\n",
       "        vertical-align: top;\n",
       "    }\n",
       "\n",
       "    .dataframe thead th {\n",
       "        text-align: right;\n",
       "    }\n",
       "</style>\n",
       "<table border=\"1\" class=\"dataframe\">\n",
       "  <thead>\n",
       "    <tr style=\"text-align: right;\">\n",
       "      <th></th>\n",
       "      <th>Inner Fence</th>\n",
       "      <th>Outer Fence</th>\n",
       "    </tr>\n",
       "  </thead>\n",
       "  <tbody>\n",
       "    <tr>\n",
       "      <th>age</th>\n",
       "      <td>0.07%</td>\n",
       "      <td>0.00%</td>\n",
       "    </tr>\n",
       "    <tr>\n",
       "      <th>years_studied</th>\n",
       "      <td>3.08%</td>\n",
       "      <td>0.00%</td>\n",
       "    </tr>\n",
       "    <tr>\n",
       "      <th>main_work_income</th>\n",
       "      <td>8.49%</td>\n",
       "      <td>5.36%</td>\n",
       "    </tr>\n",
       "    <tr>\n",
       "      <th>all_work_income</th>\n",
       "      <td>8.79%</td>\n",
       "      <td>4.76%</td>\n",
       "    </tr>\n",
       "    <tr>\n",
       "      <th>weekly_worked_hours_all_jobs</th>\n",
       "      <td>16.58%</td>\n",
       "      <td>4.60%</td>\n",
       "    </tr>\n",
       "  </tbody>\n",
       "</table>\n",
       "</div>"
      ],
      "text/plain": [
       "                             Inner Fence Outer Fence\n",
       "age                                0.07%       0.00%\n",
       "years_studied                      3.08%       0.00%\n",
       "main_work_income                   8.49%       5.36%\n",
       "all_work_income                    8.79%       4.76%\n",
       "weekly_worked_hours_all_jobs      16.58%       4.60%"
      ]
     },
     "execution_count": 6,
     "metadata": {},
     "output_type": "execute_result"
    }
   ],
   "source": [
    "utils.outlier_percentage(df[truly_numeric])"
   ]
  },
  {
   "cell_type": "markdown",
   "metadata": {},
   "source": [
    "As expected, the inner fence method is way more sensitive to outliers than the outer fence.     \n",
    "Thus, outer fence can keep roughly 95% of the dataset as it is, while it separates inliers and outliers.   \n",
    "This probably will be the preferred method, but I'll inspect the details before I formalize my decision."
   ]
  },
  {
   "cell_type": "code",
   "execution_count": 7,
   "metadata": {},
   "outputs": [
    {
     "data": {
      "text/html": [
       "<div>\n",
       "<style scoped>\n",
       "    .dataframe tbody tr th:only-of-type {\n",
       "        vertical-align: middle;\n",
       "    }\n",
       "\n",
       "    .dataframe tbody tr th {\n",
       "        vertical-align: top;\n",
       "    }\n",
       "\n",
       "    .dataframe thead th {\n",
       "        text-align: right;\n",
       "    }\n",
       "</style>\n",
       "<table border=\"1\" class=\"dataframe\">\n",
       "  <thead>\n",
       "    <tr style=\"text-align: right;\">\n",
       "      <th></th>\n",
       "      <th>age</th>\n",
       "      <th>years_studied</th>\n",
       "      <th>main_work_income</th>\n",
       "      <th>all_work_income</th>\n",
       "      <th>weekly_worked_hours_all_jobs</th>\n",
       "    </tr>\n",
       "  </thead>\n",
       "  <tbody>\n",
       "    <tr>\n",
       "      <th>mean</th>\n",
       "      <td>40.9</td>\n",
       "      <td>10.8</td>\n",
       "      <td>2636.1</td>\n",
       "      <td>2713.0</td>\n",
       "      <td>39.3</td>\n",
       "    </tr>\n",
       "    <tr>\n",
       "      <th>std</th>\n",
       "      <td>13.6</td>\n",
       "      <td>4.3</td>\n",
       "      <td>3941.1</td>\n",
       "      <td>4138.2</td>\n",
       "      <td>12.0</td>\n",
       "    </tr>\n",
       "    <tr>\n",
       "      <th>min</th>\n",
       "      <td>14.0</td>\n",
       "      <td>0.0</td>\n",
       "      <td>5.0</td>\n",
       "      <td>5.0</td>\n",
       "      <td>1.0</td>\n",
       "    </tr>\n",
       "    <tr>\n",
       "      <th>25%</th>\n",
       "      <td>30.0</td>\n",
       "      <td>8.0</td>\n",
       "      <td>1300.0</td>\n",
       "      <td>1302.0</td>\n",
       "      <td>36.0</td>\n",
       "    </tr>\n",
       "    <tr>\n",
       "      <th>50%</th>\n",
       "      <td>40.0</td>\n",
       "      <td>12.0</td>\n",
       "      <td>1600.0</td>\n",
       "      <td>1600.0</td>\n",
       "      <td>40.0</td>\n",
       "    </tr>\n",
       "    <tr>\n",
       "      <th>75%</th>\n",
       "      <td>51.0</td>\n",
       "      <td>13.0</td>\n",
       "      <td>2900.0</td>\n",
       "      <td>3000.0</td>\n",
       "      <td>44.0</td>\n",
       "    </tr>\n",
       "    <tr>\n",
       "      <th>max</th>\n",
       "      <td>114.0</td>\n",
       "      <td>16.0</td>\n",
       "      <td>300000.0</td>\n",
       "      <td>300000.0</td>\n",
       "      <td>120.0</td>\n",
       "    </tr>\n",
       "  </tbody>\n",
       "</table>\n",
       "</div>"
      ],
      "text/plain": [
       "        age  years_studied  main_work_income  all_work_income  \\\n",
       "mean   40.9           10.8            2636.1           2713.0   \n",
       "std    13.6            4.3            3941.1           4138.2   \n",
       "min    14.0            0.0               5.0              5.0   \n",
       "25%    30.0            8.0            1300.0           1302.0   \n",
       "50%    40.0           12.0            1600.0           1600.0   \n",
       "75%    51.0           13.0            2900.0           3000.0   \n",
       "max   114.0           16.0          300000.0         300000.0   \n",
       "\n",
       "      weekly_worked_hours_all_jobs  \n",
       "mean                          39.3  \n",
       "std                           12.0  \n",
       "min                            1.0  \n",
       "25%                           36.0  \n",
       "50%                           40.0  \n",
       "75%                           44.0  \n",
       "max                          120.0  "
      ]
     },
     "execution_count": 7,
     "metadata": {},
     "output_type": "execute_result"
    }
   ],
   "source": [
    "utils.formatted_description(df[truly_numeric])"
   ]
  },
  {
   "cell_type": "markdown",
   "metadata": {},
   "source": [
    "Curious outliers:\n",
    "- Ages >= 100 (yet, they may happen, depending on how often)  \n",
    "- People who have never studied at all (yet this not really strange to Brazilian reality)\n",
    "- low income < 1300 or around 300k (people receiving way below minimum age or much more than 100x the averages)\n",
    "- people who are working too little (1h/week) or too much (120h/week!!!)\n",
    "    - if a person works 120h/week, he/she must work more than 5 days a week (for 120/5 = 24).\n",
    "        - working 6 days, there would be 20 working hours a day\n",
    "        - working 7 days, approximately 17 working hours a day\n",
    "    - I can imagine few people working that much for a short period in their lives, but definitively I'll take a look at this later"
   ]
  },
  {
   "cell_type": "markdown",
   "metadata": {},
   "source": [
    "For now, I'll simply conduct univariate analysis on the target variable, dealing with outliers without removing any row."
   ]
  },
  {
   "cell_type": "markdown",
   "metadata": {},
   "source": [
    "----\n",
    "## 3. Univariate Analysis (Target)"
   ]
  },
  {
   "cell_type": "markdown",
   "metadata": {},
   "source": [
    "Checking how often the main work income corresponds to all work income: "
   ]
  },
  {
   "cell_type": "code",
   "execution_count": 8,
   "metadata": {},
   "outputs": [
    {
     "name": "stdout",
     "output_type": "stream",
     "text": [
      "Porportion of rows where main income represents all income:  96.99%\n"
     ]
    }
   ],
   "source": [
    "main_is_all = df.loc[df['main_work_income']==df['all_work_income']].shape[0] / df.shape[0]\n",
    "print('Porportion of rows where main income represents all income:', utils.make_percentage(main_is_all))"
   ]
  },
  {
   "cell_type": "markdown",
   "metadata": {},
   "source": [
    "Treating outliers without removing them:"
   ]
  },
  {
   "cell_type": "code",
   "execution_count": 9,
   "metadata": {},
   "outputs": [
    {
     "name": "stdout",
     "output_type": "stream",
     "text": [
      "Before Winsorization:\n",
      " Max: 300000.0\n",
      " Central Measurements:\n",
      " mean      2713.003403\n",
      "median    1600.000000\n",
      "mode      1320.000000\n",
      "dtype: float64\n",
      "------------------------------\n",
      "After Winsorization:\n",
      " Max: 8094.0\n",
      " Central Measurements:\n",
      " mean      2345.570765\n",
      "median    1600.000000\n",
      "mode      1320.000000\n",
      "dtype: float64\n"
     ]
    }
   ],
   "source": [
    "print(f\"Before Winsorization:\\n Max: {df['all_work_income'].max()}\\n Central Measurements:\\n {utils.central_measurements(df['all_work_income'])}\")\n",
    "print('---'*10)\n",
    "df['all_work_income'] = utils.winsorizing_outliers(df['all_work_income'])\n",
    "print(f\"After Winsorization:\\n Max: {df['all_work_income'].max()}\\n Central Measurements:\\n {utils.central_measurements(df['all_work_income'])}\")"
   ]
  },
  {
   "cell_type": "markdown",
   "metadata": {},
   "source": [
    "Analyzing income distribution graphically:"
   ]
  },
  {
   "cell_type": "code",
   "execution_count": 10,
   "metadata": {},
   "outputs": [
    {
     "data": {
      "image/png": "[encoded data removed]",
      "text/plain": [
       "<Figure size 640x480 with 1 Axes>"
      ]
     },
     "metadata": {},
     "output_type": "display_data"
    }
   ],
   "source": [
    "utils.plot_histogram(\n",
    "    df['all_work_income'], \n",
    "    title= 'Income Distribution Among Survey Respondents', \n",
    "    y_label='Percentage of Respondents', \n",
    "    x_label='Total Monthly Income (R$)',\n",
    ")"
   ]
  },
  {
   "cell_type": "code",
   "execution_count": 11,
   "metadata": {},
   "outputs": [
    {
     "data": {
      "image/png": "[encoded data removed]",
      "text/plain": [
       "<Figure size 640x480 with 1 Axes>"
      ]
     },
     "metadata": {},
     "output_type": "display_data"
    }
   ],
   "source": [
    "utils.plot_histogram(\n",
    "    df['all_work_income'], \n",
    "    title= 'Income Distribution Among Survey Respondents', \n",
    "    y_label='Cumulative Percentage of Respondents', \n",
    "    x_label='Total Monthly Income (R$)',\n",
    "    cumulative=True,\n",
    "    element='step'\n",
    ")"
   ]
  },
  {
   "cell_type": "markdown",
   "metadata": {},
   "source": [
    "Checking conformity with normality:"
   ]
  },
  {
   "cell_type": "code",
   "execution_count": 12,
   "metadata": {},
   "outputs": [
    {
     "data": {
      "image/png": "[encoded data removed]",
      "text/plain": [
       "<Figure size 640x480 with 1 Axes>"
      ]
     },
     "metadata": {},
     "output_type": "display_data"
    }
   ],
   "source": [
    "utils.check_normality(df['all_work_income'])"
   ]
  },
  {
   "cell_type": "markdown",
   "metadata": {},
   "source": [
    "Since income distribution is far from normality, as expected, I'll opt for non-parametric approaches for the rest of the process.   \n",
    "____"
   ]
  }
 ],
 "metadata": {
  "kernelspec": {
   "display_name": "venv",
   "language": "python",
   "name": "python3"
  },
  "language_info": {
   "codemirror_mode": {
    "name": "ipython",
    "version": 3
   },
   "file_extension": ".py",
   "mimetype": "text/x-python",
   "name": "python",
   "nbconvert_exporter": "python",
   "pygments_lexer": "ipython3",
   "version": "3.9.19"
  }
 },
 "nbformat": 4,
 "nbformat_minor": 2
}
